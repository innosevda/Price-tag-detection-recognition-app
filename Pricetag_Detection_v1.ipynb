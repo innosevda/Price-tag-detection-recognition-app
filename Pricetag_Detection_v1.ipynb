{
  "nbformat": 4,
  "nbformat_minor": 0,
  "metadata": {
    "colab": {
      "provenance": [],
      "include_colab_link": true
    },
    "kernelspec": {
      "name": "python3",
      "display_name": "Python 3"
    },
    "language_info": {
      "name": "python"
    }
  },
  "cells": [
    {
      "cell_type": "markdown",
      "metadata": {
        "id": "view-in-github",
        "colab_type": "text"
      },
      "source": [
        "<a href=\"https://colab.research.google.com/github/innosevda/Price-tag-detection-recognition-app/blob/model%2Fpipeline/Pricetag_Detection_v1.ipynb\" target=\"_parent\"><img src=\"https://colab.research.google.com/assets/colab-badge.svg\" alt=\"Open In Colab\"/></a>"
      ]
    },
    {
      "cell_type": "markdown",
      "source": [
        "#Necessary installation"
      ],
      "metadata": {
        "id": "Co5PjLvfCkpr"
      }
    },
    {
      "cell_type": "code",
      "source": [
        "!pip install opencv-python matplotlib pyzbar"
      ],
      "metadata": {
        "id": "-lPrYSW1fjlS"
      },
      "execution_count": null,
      "outputs": []
    },
    {
      "cell_type": "code",
      "source": [
        "!apt-get install -y libzbar0"
      ],
      "metadata": {
        "id": "Wb44yXs8fk-E"
      },
      "execution_count": null,
      "outputs": []
    },
    {
      "cell_type": "code",
      "source": [
        "# Install pytesseract and tesseract-ocr\n",
        "!pip install pytesseract\n",
        "!apt-get install tesseract-ocr"
      ],
      "metadata": {
        "id": "oLELAks_fpd2"
      },
      "execution_count": null,
      "outputs": []
    },
    {
      "cell_type": "markdown",
      "source": [
        "#Connecting to google drive"
      ],
      "metadata": {
        "id": "oMcyNLv-4aOv"
      }
    },
    {
      "cell_type": "code",
      "source": [
        "from google.colab import drive\n",
        "drive.mount('/content/gdrive')"
      ],
      "metadata": {
        "colab": {
          "base_uri": "https://localhost:8080/"
        },
        "id": "bER0ACJn27pF",
        "outputId": "66511460-c29f-4c8a-dc50-08f65232ebdf"
      },
      "execution_count": 30,
      "outputs": [
        {
          "output_type": "stream",
          "name": "stdout",
          "text": [
            "Mounted at /content/gdrive\n"
          ]
        }
      ]
    },
    {
      "cell_type": "markdown",
      "source": [
        "#PIPELINE\n"
      ],
      "metadata": {
        "id": "zsbXiAp0Dcqj"
      }
    },
    {
      "cell_type": "code",
      "execution_count": null,
      "metadata": {
        "id": "PCevhE8BfaAO"
      },
      "outputs": [],
      "source": [
        "import os\n",
        "import cv2\n",
        "import numpy as np\n",
        "import pytesseract\n",
        "from pyzbar.pyzbar import decode\n",
        "import matplotlib.pyplot as plt\n",
        "import re\n",
        "import random\n",
        "\n",
        "# Mount Google Drive if not already mounted\n",
        "# from google.colab import drive\n",
        "# drive.mount('/content/drive')\n",
        "\n",
        "# Path to the folder containing images\n",
        "folder_path = '/content/gdrive/MyDrive/test_images'\n",
        "\n",
        "# Function to randomly select an image from the folder\n",
        "def get_random_image(folder_path):\n",
        "    all_files = [f for f in os.listdir(folder_path) if os.path.isfile(os.path.join(folder_path, f))]\n",
        "    if not all_files:\n",
        "        print(\"No files found in the folder!\")\n",
        "        return None\n",
        "    return os.path.join(folder_path, random.choice(all_files))\n",
        "\n",
        "# Pipeline to process an image: detect barcode, crop, threshold, and extract text\n",
        "def process_pipeline(image_path, scale_factor=5, threshold_value=150):\n",
        "    # Load the image\n",
        "    image = cv2.imread(image_path)\n",
        "    if image is None:\n",
        "        print(f\"Error: Unable to load image at {image_path}\")\n",
        "        return\n",
        "\n",
        "    # Step 1: Detect barcode and locate its bounding box\n",
        "    gray = cv2.cvtColor(image, cv2.COLOR_BGR2GRAY)\n",
        "    barcodes = decode(gray)\n",
        "\n",
        "    if not barcodes:\n",
        "        print(f\"No barcode found in the image: {image_path}\")\n",
        "        return\n",
        "\n",
        "    # Use the first detected barcode\n",
        "    barcode = barcodes[0]\n",
        "    (x, y, w, h) = barcode.rect\n",
        "\n",
        "    # Expand the bounding box for cropping\n",
        "    expanded_width = int(w * (scale_factor - 1) / 2)\n",
        "    expanded_height = int(h * (scale_factor - 1) / 2)\n",
        "\n",
        "    x_min = max(x - expanded_width, 0)\n",
        "    x_max = min(x + w + expanded_width, image.shape[1])\n",
        "    y_min = max(y - expanded_height, 0)\n",
        "    y_max = min(y + h + expanded_height, image.shape[0])\n",
        "\n",
        "    # Step 2: Crop the expanded area\n",
        "    cropped_image = gray[y_min:y_max, x_min:x_max]\n",
        "\n",
        "    # Display the cropped image\n",
        "    plt.imshow(cropped_image, cmap='gray')\n",
        "    plt.title(\"Cropped Image\")\n",
        "    plt.axis('off')\n",
        "    plt.show()\n",
        "\n",
        "    # Step 3: Apply thresholding\n",
        "    _, thresholded_image = cv2.threshold(cropped_image, threshold_value, 255, cv2.THRESH_BINARY)\n",
        "\n",
        "    # Display the thresholded image\n",
        "    plt.imshow(thresholded_image, cmap='gray')\n",
        "    plt.title(\"Thresholded Image\")\n",
        "    plt.axis('off')\n",
        "    plt.show()\n",
        "\n",
        "    # Step 4: Perform OCR on the thresholded image\n",
        "    contours, _ = cv2.findContours(thresholded_image, cv2.RETR_EXTERNAL, cv2.CHAIN_APPROX_SIMPLE)\n",
        "    if contours:\n",
        "        largest_contour = max(contours, key=cv2.contourArea)\n",
        "        mask = np.zeros_like(thresholded_image)\n",
        "        cv2.drawContours(mask, [largest_contour], -1, (255), thickness=cv2.FILLED)\n",
        "        price_tag_area = cv2.bitwise_and(cropped_image, cropped_image, mask=mask)\n",
        "\n",
        "        # Perform OCR on the masked area\n",
        "        ocr_text = pytesseract.image_to_string(price_tag_area, config='--psm 6')\n",
        "        print(\"OCR Text Detected:\", ocr_text)\n",
        "\n",
        "        # Extract price from the detected text\n",
        "        price_match = re.search(r'(\\d+)\\.?\\d{2}', ocr_text)\n",
        "        if price_match:\n",
        "            detected_price = price_match.group(0)\n",
        "            print(f\"Detected Price: {detected_price}\")\n",
        "        else:\n",
        "            print(\"No valid price detected.\")\n",
        "\n",
        "        # Display the cropped price tag area\n",
        "        plt.imshow(price_tag_area, cmap='gray')\n",
        "        plt.title(\"Price Tag Area\")\n",
        "        plt.axis('off')\n",
        "        plt.show()\n",
        "    else:\n",
        "        print(\"No contours found in the thresholded image.\")\n",
        "\n",
        "# Select a random image from the folder and process it\n",
        "random_image_path = get_random_image(folder_path)\n",
        "if random_image_path:\n",
        "    print(f\"Selected random image: {random_image_path}\")\n",
        "    process_pipeline(random_image_path, scale_factor=5, threshold_value=150)\n"
      ]
    }
  ]
